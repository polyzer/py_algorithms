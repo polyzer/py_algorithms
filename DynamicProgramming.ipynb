{
 "cells": [
  {
   "cell_type": "markdown",
   "metadata": {},
   "source": [
    "## Cut-Rod"
   ]
  },
  {
   "cell_type": "code",
   "execution_count": 6,
   "metadata": {},
   "outputs": [
    {
     "data": {
      "text/plain": [
       "12"
      ]
     },
     "execution_count": 6,
     "metadata": {},
     "output_type": "execute_result"
    }
   ],
   "source": [
    "def cutrod(p,n):\n",
    "    if n == 0:\n",
    "        return 0\n",
    "    q = float(\"-inf\")\n",
    "    for i in range(n):\n",
    "        q = max(q, p[i] + cutrod(p, n-i))\n",
    "    return q\n",
    "\n",
    "def memoizedcutrod(p, n):\n",
    "    r = [i for i in range(n+1)]\n",
    "    for i in range(n+1):\n",
    "        r[i] = float(\"-inf\")\n",
    "    return memoizedcutrodaux(p,n,r)\n",
    "def memoizedcutrodaux(p,n,r):\n",
    "    if r[n] >= 0:\n",
    "        return r[n]\n",
    "    if n == 0:\n",
    "        q = 0\n",
    "    else:\n",
    "        q = float(\"-inf\")\n",
    "        for i in range(1, n+1):\n",
    "            q = max(q, p[i] + memoizedcutrodaux(p, n-i,r))\n",
    "    r[n] = q\n",
    "    return q\n",
    "\n",
    "def bottomupcutrod(p, n):\n",
    "    r = [0 for i in range(n+1)]\n",
    "    for j in range(1,n+1):\n",
    "        q = float(\"-inf\")\n",
    "        for i in range(1, j+1):\n",
    "            q = max(q, p[i] + r[j-i])\n",
    "        r[j] = q\n",
    "    return r[n]\n"
   ]
  },
  {
   "cell_type": "code",
   "execution_count": 8,
   "metadata": {},
   "outputs": [
    {
     "name": "stdout",
     "output_type": "stream",
     "text": [
      "12\n",
      "12\n"
     ]
    }
   ],
   "source": [
    "p = [0,2,2,3,4,5,6,7]\n",
    "n = 6\n",
    "print(bottomupcutrod(p,n))\n",
    "print(memoizedcutrod(p,n))"
   ]
  },
  {
   "cell_type": "markdown",
   "metadata": {},
   "source": [
    "## Coin change problem"
   ]
  },
  {
   "cell_type": "code",
   "execution_count": 2,
   "metadata": {},
   "outputs": [
    {
     "data": {
      "text/plain": [
       "4"
      ]
     },
     "execution_count": 2,
     "metadata": {},
     "output_type": "execute_result"
    }
   ],
   "source": [
    "def getWays(S,n):\n",
    "    m = len(S)\n",
    "    table = [[0 for x in range(m)] for x in range(n+1)]\n",
    "    for i in range(m):\n",
    "        table[0][i] = 1\n",
    "    \n",
    "    for i in range(1, n+1):\n",
    "        for j in range(m):\n",
    "            x = table[i - S[j]][j] if i-S[j] >= 0 else 0\n",
    "            y = table[i][j-1] if j >= 1 else 0\n",
    "            table[i][j] = x + y\n",
    "    \n",
    "    return table[n][m-1]\n",
    "\n",
    "arr = [1,2,3]\n",
    "n = 4\n",
    "getWays(arr,n)"
   ]
  },
  {
   "cell_type": "markdown",
   "metadata": {},
   "source": [
    "## Matrix Chain Order"
   ]
  },
  {
   "cell_type": "code",
   "execution_count": null,
   "metadata": {},
   "outputs": [],
   "source": [
    "def matrixchainorder(p):\n",
    "    n = len(p) - 1\n",
    "    \n",
    "    m = [[] for i in range(n)]\n",
    "    s = [[] for i in range(n-1)]\n",
    "    \n",
    "    for i in range(1, n+1):\n",
    "        m[i][i]"
   ]
  }
 ],
 "metadata": {
  "kernelspec": {
   "display_name": "Python 3",
   "language": "python",
   "name": "python3"
  },
  "language_info": {
   "codemirror_mode": {
    "name": "ipython",
    "version": 3
   },
   "file_extension": ".py",
   "mimetype": "text/x-python",
   "name": "python",
   "nbconvert_exporter": "python",
   "pygments_lexer": "ipython3",
   "version": "3.7.6"
  }
 },
 "nbformat": 4,
 "nbformat_minor": 4
}
