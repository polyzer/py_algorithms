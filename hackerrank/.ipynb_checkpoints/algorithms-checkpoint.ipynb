{
 "cells": [
  {
   "cell_type": "markdown",
   "metadata": {},
   "source": [
    "## Dynamic programming."
   ]
  },
  {
   "cell_type": "markdown",
   "metadata": {},
   "source": [
    "[The Coin Change Problem](https://www.hackerrank.com/challenges/coin-change/problem)"
   ]
  },
  {
   "cell_type": "code",
   "execution_count": 1,
   "metadata": {},
   "outputs": [],
   "source": [
    "def getWays(n, c):\n",
    "    # Write your code here\n",
    "    answers = []\n",
    "    for item in c:\n",
    "        if item < n:\n",
    "            answers.append([item])\n",
    "    while True:\n",
    "        was_added = False\n",
    "        new_answers = []\n",
    "        for item in c:\n",
    "            for a in answers:\n",
    "                if sum(a) == n:\n",
    "                    if a not in new_answers:\n",
    "                        new_answers.append(a)\n",
    "                    continue\n",
    "                n_a = a[:]\n",
    "                if sum(n_a)+item <= n:\n",
    "                    n_a.append(item)\n",
    "                    n_a.sort()\n",
    "                    if n_a not in new_answers:\n",
    "                        new_answers.append(n_a)\n",
    "                        if not was_added:\n",
    "                            was_added = True\n",
    "        answers = new_answers\n",
    "        if not was_added:\n",
    "            def ff(x):\n",
    "                if sum(x) == n:\n",
    "                    return True\n",
    "                else:\n",
    "                    return False\n",
    "            answers = list(filter(ff, answers))\n",
    "            return len(answers)"
   ]
  },
  {
   "cell_type": "code",
   "execution_count": null,
   "metadata": {},
   "outputs": [],
   "source": []
  }
 ],
 "metadata": {
  "kernelspec": {
   "display_name": "Python 3",
   "language": "python",
   "name": "python3"
  },
  "language_info": {
   "codemirror_mode": {
    "name": "ipython",
    "version": 3
   },
   "file_extension": ".py",
   "mimetype": "text/x-python",
   "name": "python",
   "nbconvert_exporter": "python",
   "pygments_lexer": "ipython3",
   "version": "3.7.6"
  }
 },
 "nbformat": 4,
 "nbformat_minor": 4
}
