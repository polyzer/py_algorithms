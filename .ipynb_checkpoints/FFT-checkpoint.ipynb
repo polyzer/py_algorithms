{
 "cells": [
  {
   "cell_type": "code",
   "execution_count": null,
   "metadata": {},
   "outputs": [],
   "source": [
    " def FFT_vectorized(x):\n",
    "    \"\"\"A vectorized, non-recursive version of the Cooley-Tukey FFT\"\"\"\n",
    "    x = np.asarray(x, dtype=float)\n",
    "    N = x.shape[0]\n",
    "\n",
    "    if np.log2(N) % 1 > 0:\n",
    "        raise ValueError(\"size of x must be a power of 2\")\n",
    "\n",
    "    # N_min here is equivalent to the stopping condition above,\n",
    "    # and should be a power of 2\n",
    "    N_min = min(N, 32)\n",
    "    \n",
    "    # Perform an O[N^2] DFT on all length-N_min sub-problems at once\n",
    "    n = np.arange(N_min)\n",
    "    k = n[:, None]\n",
    "    M = np.exp(-2j * np.pi * n * k / N_min)\n",
    "    X = np.dot(M, x.reshape((N_min, -1)))\n",
    "\n",
    "    # build-up each level of the recursive calculation all at once\n",
    "    while X.shape[0] < N:\n",
    "        X_even = X[:, :int(X.shape[1] / 2)]\n",
    "        X_odd = X[:, int(X.shape[1] / 2):]\n",
    "        factor = np.exp(-1j * np.pi * np.arange(X.shape[0])\n",
    "                        / X.shape[0])[:, None]\n",
    "        X = np.vstack([X_even + factor * X_odd,\n",
    "                       X_even - factor * X_odd])\n",
    "\n",
    "    return X.ravel()"
   ]
  },
  {
   "cell_type": "code",
   "execution_count": null,
   "metadata": {},
   "outputs": [],
   "source": [
    "x = np.random.random(1024)\n",
    "np.allclose(FFT_vectorized(x), np.fft.fft(x))"
   ]
  },
  {
   "cell_type": "code",
   "execution_count": null,
   "metadata": {},
   "outputs": [],
   "source": [
    "x = np.random.random(1024 * 16)\n",
    "#%timeit FFT(x)\n",
    "# %timeit DFT_slow(x)\n",
    "# %timeit FFT_vectorized(x)\n",
    "# %timeit np.fft.fft(x)\n",
    "print(FFT_vectorized(x))"
   ]
  },
  {
   "cell_type": "code",
   "execution_count": null,
   "metadata": {},
   "outputs": [],
   "source": [
    "def my_FFT_vectorized(x):\n",
    "    N = x.shape[0]\n",
    "    N_min = min(N, 32)\n",
    "    if np.log2(N) % 1 > 0:\n",
    "        raise ValueError(\"size of x must be ab power of 2\")\n",
    "    \n",
    "    n = np.arange(N_min)\n",
    "    k = n[:, None]\n",
    "    M = np.exp(-2j * k * n * np.pi / N_min)\n",
    "    X = np.dot(M, x.reshape((N_min, -1)))\n",
    "    \n",
    "    while X.shape[0] < N:\n",
    "        X_even = X[:,:int(X.shape[0]/2)]\n",
    "        X_odd = X[:,int(X.shape[0]/2):]\n",
    "        factor = np.exp(-1j * np.pi * np.arange(X.shape[0]) / X.shape[0])[:, None]\n",
    "        \n",
    "x = np.random.random(1024*32)\n",
    "print(x)\n",
    "#%timeit my_FFT_vectorized(x)"
   ]
  },
  {
   "cell_type": "code",
   "execution_count": null,
   "metadata": {},
   "outputs": [],
   "source": [
    "p = np.arange(4)\n",
    "q = p[:, None]\n",
    "l = p*q\n",
    "l"
   ]
  },
  {
   "cell_type": "code",
   "execution_count": null,
   "metadata": {},
   "outputs": [],
   "source": []
  }
 ],
 "metadata": {
  "kernelspec": {
   "display_name": "Python 3",
   "language": "python",
   "name": "python3"
  },
  "language_info": {
   "codemirror_mode": {
    "name": "ipython",
    "version": 3
   },
   "file_extension": ".py",
   "mimetype": "text/x-python",
   "name": "python",
   "nbconvert_exporter": "python",
   "pygments_lexer": "ipython3",
   "version": "3.7.5"
  }
 },
 "nbformat": 4,
 "nbformat_minor": 2
}
