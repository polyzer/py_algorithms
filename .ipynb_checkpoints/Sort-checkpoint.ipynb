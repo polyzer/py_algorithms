{
 "cells": [
  {
   "cell_type": "markdown",
   "metadata": {},
   "source": [
    "## Mergesort\n"
   ]
  },
  {
   "cell_type": "code",
   "execution_count": 5,
   "metadata": {},
   "outputs": [],
   "source": [
    "import numpy as np"
   ]
  },
  {
   "cell_type": "code",
   "execution_count": 2,
   "metadata": {},
   "outputs": [],
   "source": [
    "def merge(a, left, mid, right):\n",
    "    it1 = 0\n",
    "    it2 = 0\n",
    "    result = []\n",
    "    \n",
    "    while (left + it1 < mid) and (mid + it2 < right):\n",
    "        if a[left + it1] < a[mid + it2]:\n",
    "            result[it1+it2] = a[left + it1]\n",
    "            it1 += 1\n",
    "        else:\n",
    "            result[it1 + it2] = a[mid + it2]\n",
    "            it2 += 1\n",
    "    \n",
    "    while left + it1 < mid:\n",
    "        result[it1 + it2] = a[left + it1]\n",
    "        it1 += 1\n",
    "    \n",
    "    while mid + it2 < right:\n",
    "        result[it1 + it2] = a[mid + it2]\n",
    "        it2 += 1\n",
    "    \n",
    "    for i in range(it1+it2):\n",
    "        a[left+i] = result[i]\n",
    "\n",
    "def mergeSortRecursive(a, left, right):\n",
    "    if left + 1 >= right:\n",
    "        return\n",
    "    mid = round((left + right) / 2)\n",
    "    mergeSortRecursive(a, left, mid)\n",
    "    mergeSortRecursive(a, mid, right)\n",
    "    merge(a, left, mid, right)"
   ]
  },
  {
   "cell_type": "code",
   "execution_count": 9,
   "metadata": {},
   "outputs": [],
   "source": [
    "arr = np.random.randint(0, 100, 10)"
   ]
  },
  {
   "cell_type": "raw",
   "metadata": {},
   "source": [
    "mergeSortRecursive(arr)"
   ]
  },
  {
   "cell_type": "code",
   "execution_count": null,
   "metadata": {},
   "outputs": [],
   "source": []
  }
 ],
 "metadata": {
  "kernelspec": {
   "display_name": "Python 3",
   "language": "python",
   "name": "python3"
  },
  "language_info": {
   "codemirror_mode": {
    "name": "ipython",
    "version": 3
   },
   "file_extension": ".py",
   "mimetype": "text/x-python",
   "name": "python",
   "nbconvert_exporter": "python",
   "pygments_lexer": "ipython3",
   "version": "3.7.5"
  }
 },
 "nbformat": 4,
 "nbformat_minor": 2
}
