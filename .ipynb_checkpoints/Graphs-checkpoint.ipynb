{
 "cells": [
  {
   "cell_type": "code",
   "execution_count": 1,
   "metadata": {},
   "outputs": [],
   "source": [
    "import numpy as np"
   ]
  },
  {
   "cell_type": "markdown",
   "metadata": {},
   "source": [
    "Степенью (degree) $d(v)$ вершины $v$ неориентированного графа $G$ называется количество соседей $v$ или, как говорят, инцидентных $v$ рёбер. Для ориентированных графов различают входящую степень (indegree) $d_{in}(v)$ и исходящую степень (outdegree) $d_{out}(v)$, то есть количество входящих в $v$ и исходящих из $v$ рёбер (соответственно).\n",
    "\n",
    "(a) Докажите, что для неориентированного графа выполнено равенство\n",
    "$\\sum_{u \\in V} d(u)=2|E|$.  \n",
    "Это следует из того, что каждое ребро соединяет ровно 2 вершины.\n",
    "\n",
    "(b) Выведите отсюда, что в реориентированном графе количество вершин нечётной степени чётно.  \n",
    "Чётное число можно получить лишь чётной суммой суммой нечётных чисел, либо любой суммой чётных."
   ]
  },
  {
   "cell_type": "markdown",
   "metadata": {},
   "source": [
    "## DSF"
   ]
  },
  {
   "cell_type": "code",
   "execution_count": 23,
   "metadata": {},
   "outputs": [
    {
     "name": "stdout",
     "output_type": "stream",
     "text": [
      "{'A': True, 'B': True, 'C': True, 'D': True, 'E': True, 'F': True, 'G': False}\n",
      "{'A': 2, 'B': 3, 'C': 1, 'D': 4, 'E': 6, 'F': 7, 'G': 0}\n",
      "{'A': 11, 'B': 10, 'C': 12, 'D': 5, 'E': 9, 'F': 8, 'G': 0}\n"
     ]
    }
   ],
   "source": [
    "#without queue\n",
    "#graph is a dict that contains\n",
    "#vertices as keys and list of vertices\n",
    "graph = {'A': ['B', 'C'],\n",
    "         'B': ['A', 'D', 'E'],\n",
    "         'C': ['A', 'F'],\n",
    "         'D': ['B'],\n",
    "         'E': ['B', 'F'],\n",
    "         'F': ['C', 'E'],\n",
    "         'G': ['G']\n",
    "        }\n",
    "\n",
    "def Previsit(v, pre, clock):\n",
    "    pre[v] = clock['clock']\n",
    "    clock['clock'] += 1\n",
    "    return\n",
    "def Postvisit(v, post, clock):\n",
    "    post[v] = clock['clock']\n",
    "    clock['clock'] += 1\n",
    "    return\n",
    "\n",
    "def Explore(v, visited, graph, pre, post, clock):\n",
    "    visited[v] = True\n",
    "    Previsit(v, pre, clock)\n",
    "    #for every edge (v,u) in graph\n",
    "    for u in graph[v]:\n",
    "        if visited[u] == False:\n",
    "            Explore(u, visited, graph, pre, post, clock)\n",
    "    Postvisit(v, post, clock)\n",
    "\n",
    "def DFS(graph):\n",
    "    visited = { key:False for (key, value) in graph.items()}\n",
    "    pre = { key:0 for (key, value) in graph.items()}\n",
    "    post = { key:0 for (key, value) in graph.items()}\n",
    "    clock = {'clock': 1}\n",
    "    Explore('C', visited, graph, pre, post, clock)\n",
    "#     for v in graph.keys():\n",
    "#         if visited[v] == False:\n",
    "#             Explore(v, visited, graph)\n",
    "    print(visited)\n",
    "    print(pre)\n",
    "    print(post)\n",
    "DFS(graph)"
   ]
  },
  {
   "cell_type": "code",
   "execution_count": 7,
   "metadata": {},
   "outputs": [
    {
     "data": {
      "text/plain": [
       "array([False, False, False, False, False, False, False, False, False,\n",
       "       False])"
      ]
     },
     "execution_count": 7,
     "metadata": {},
     "output_type": "execute_result"
    }
   ],
   "source": [
    "np.zeros(10, dtype=bool)"
   ]
  },
  {
   "cell_type": "markdown",
   "metadata": {},
   "source": [
    "## BSF"
   ]
  },
  {
   "cell_type": "code",
   "execution_count": 7,
   "metadata": {},
   "outputs": [
    {
     "name": "stdout",
     "output_type": "stream",
     "text": [
      "{'A': 0, 'B': 1, 'C': 1, 'D': 2, 'E': 2, 'F': 2, 'G': inf}\n"
     ]
    }
   ],
   "source": [
    "class myqueue:\n",
    "    def __init__(self):\n",
    "        self.items = []\n",
    "    def isEmpty(self):\n",
    "        return self.items == []\n",
    "    def inject(self, item):\n",
    "        self.items.insert(0, item)\n",
    "    def eject(self):\n",
    "        return self.items.pop()\n",
    "    def size(self):\n",
    "        return len(self.items)\n",
    "\n",
    "graph = {'A': ['B', 'C'],\n",
    "         'B': ['A', 'D', 'E'],\n",
    "         'C': ['A', 'F'],\n",
    "         'D': ['B'],\n",
    "         'E': ['B', 'F'],\n",
    "         'F': ['C', 'E'],\n",
    "         'G': ['G']\n",
    "        }\n",
    "def BFS(graph, s):\n",
    "    dist = {key:np.inf for (key, value) in graph.items()}\n",
    "    dist[s] = 0\n",
    "    Q = myqueue()\n",
    "    Q.inject(s)\n",
    "    while not Q.isEmpty():\n",
    "        v = Q.eject()\n",
    "        for u in graph[v]:\n",
    "            if dist[u] == np.inf:\n",
    "                Q.inject(u)\n",
    "                dist[u] = dist[v] + 1\n",
    "    print(dist)\n",
    "BFS(graph, 'A')"
   ]
  },
  {
   "cell_type": "code",
   "execution_count": 9,
   "metadata": {},
   "outputs": [],
   "source": [
    "class BinHeap:\n",
    "    def __init__(self):\n",
    "        self.heapList = [0]\n",
    "        self.currentSize = 0\n",
    "        \n",
    "    def percUp(self, i):\n",
    "        while i // 2 > 0:\n",
    "            if self.heapList[i] < self.heapList[i // 2]:\n",
    "                tmp = self.heapList[i]\n",
    "                self.heapList[i] = self.heapList[i // 2]\n",
    "                self.heapList[i // 2] = tmp\n",
    "            i = i // 2\n",
    "    def insert(self, i):\n",
    "        self.heapList.append(i)\n",
    "        self.currentSize = len(self.heapList) - 1\n",
    "        self.percUp(self.currentSize)\n",
    "        \n",
    "    def percDown(self, i):\n",
    "        while (i*2) <= self.currentSize:\n",
    "            mc = self.minChild(i)\n",
    "            if self.heapList[i] > self.heapList[mc]:\n",
    "                tmp = self.heapList[mc]\n",
    "                self.heapList[mc] = self.heapList[i]\n",
    "                self.heapList[i] = tmp\n",
    "            i = mc\n",
    "    def minChild(self, i):\n",
    "        if (i*2 + 1) > self.currentSize:\n",
    "            return i*2\n",
    "        else:\n",
    "            if self.heapList[i*2] < self.heapList[i*2+1]:\n",
    "                return i*2\n",
    "            else:\n",
    "                return i*2+1\n",
    "    def delMin(self):\n",
    "        retval = self.heapList[1]\n",
    "        self.heapList[1] = self.heapList[self.currentSize]\n",
    "        self.currentSize -= 1\n",
    "        self.heapList.pop()\n",
    "        self.percDown(1)\n",
    "        return retval\n",
    "    \n",
    "    def buildHeap(self, alist):\n",
    "        i = len(alist) // 2\n",
    "        self.currentSize = len(alist)\n",
    "        self.heapList = [0] + alist[:]\n",
    "        while (i > 0):\n",
    "            self.percDown(i)\n",
    "            i -= 1\n",
    "        "
   ]
  },
  {
   "cell_type": "code",
   "execution_count": null,
   "metadata": {},
   "outputs": [],
   "source": [
    "\n",
    "class ArrBinHeap:\n",
    "    def __init__(self):\n",
    "        self.heapList = [0]\n",
    "        self.currentSize = 0\n",
    "        \n",
    "    def percUp(self, i):\n",
    "        while i // 2 > 0:\n",
    "            if self.heapList[i][1] < self.heapList[i // 2][1]:\n",
    "                tmp = self.heapList[i]\n",
    "                self.heapList[i] = self.heapList[i // 2]\n",
    "                self.heapList[i // 2] = tmp\n",
    "            i = i // 2\n",
    "    def insert(self, i):\n",
    "        self.heapList.append(i)\n",
    "        self.currentSize = len(self.heapList) - 1\n",
    "        self.percUp(self.currentSize)\n",
    "        \n",
    "    def percDown(self, i):\n",
    "        while (i*2) <= self.currentSize:\n",
    "            mc = self.minChild(i)\n",
    "            if self.heapList[i][1] > self.heapList[mc][1]:\n",
    "                tmp = self.heapList[mc]\n",
    "                self.heapList[mc] = self.heapList[i]\n",
    "                self.heapList[i] = tmp\n",
    "            i = mc\n",
    "    def minChild(self, i):\n",
    "        if (i*2 + 1) > self.currentSize:\n",
    "            return i*2\n",
    "        else:\n",
    "            if self.heapList[i*2][1] < self.heapList[i*2+1][1]:\n",
    "                return i*2\n",
    "            else:\n",
    "                return i*2+1\n",
    "    def delMin(self):\n",
    "        retval = self.heapList[1]\n",
    "        self.heapList[1] = self.heapList[self.currentSize]\n",
    "        self.currentSize -= 1\n",
    "        self.heapList.pop()\n",
    "        self.percDown(1)\n",
    "        return retval\n",
    "    \n",
    "    def modifyOne(self):\n",
    "    \n",
    "    def buildHeap(self, alist):\n",
    "        i = len(alist) // 2\n",
    "        self.currentSize = len(alist)\n",
    "        self.heapList = [0] + alist[:]\n",
    "        while (i > 0):\n",
    "            self.percDown(i)\n",
    "            i -= 1\n",
    "        "
   ]
  },
  {
   "cell_type": "code",
   "execution_count": null,
   "metadata": {},
   "outputs": [],
   "source": [
    "#priority queue over Binary heap \n",
    "class myqueue:\n",
    "    def __init__(self):\n",
    "        \n",
    "        return\n",
    "    def insert(self, v):\n",
    "        return\n",
    "    def deleteMin(self):\n",
    "        return\n",
    "    def makeQueue(self):"
   ]
  },
  {
   "cell_type": "markdown",
   "metadata": {},
   "source": [
    "## Dijkstra"
   ]
  },
  {
   "cell_type": "code",
   "execution_count": 10,
   "metadata": {},
   "outputs": [],
   "source": [
    "import heapq"
   ]
  },
  {
   "cell_type": "markdown",
   "metadata": {},
   "source": [
    "[Array Dijkstra from e-maxx](https://e-maxx.ru/algo/dijkstra)"
   ]
  },
  {
   "cell_type": "code",
   "execution_count": 2,
   "metadata": {},
   "outputs": [
    {
     "ename": "NameError",
     "evalue": "name 'min_el' is not defined",
     "output_type": "error",
     "traceback": [
      "\u001b[1;31m---------------------------------------------------------------------------\u001b[0m",
      "\u001b[1;31mNameError\u001b[0m                                 Traceback (most recent call last)",
      "\u001b[1;32m<ipython-input-2-fc58d30c055a>\u001b[0m in \u001b[0;36m<module>\u001b[1;34m\u001b[0m\n\u001b[0;32m     33\u001b[0m             \u001b[0mdist\u001b[0m\u001b[1;33m[\u001b[0m\u001b[0mto\u001b[0m\u001b[1;33m[\u001b[0m\u001b[1;36m0\u001b[0m\u001b[1;33m]\u001b[0m\u001b[1;33m]\u001b[0m \u001b[1;33m=\u001b[0m \u001b[0mmin\u001b[0m\u001b[1;33m(\u001b[0m\u001b[0mdist\u001b[0m\u001b[1;33m[\u001b[0m\u001b[0mto\u001b[0m\u001b[1;33m[\u001b[0m\u001b[1;36m0\u001b[0m\u001b[1;33m]\u001b[0m\u001b[1;33m]\u001b[0m\u001b[1;33m,\u001b[0m \u001b[0md\u001b[0m\u001b[1;33m[\u001b[0m\u001b[0mv\u001b[0m\u001b[1;33m[\u001b[0m\u001b[1;36m0\u001b[0m\u001b[1;33m]\u001b[0m\u001b[1;33m]\u001b[0m \u001b[1;33m+\u001b[0m \u001b[0mto\u001b[0m\u001b[1;33m[\u001b[0m\u001b[1;36m1\u001b[0m\u001b[1;33m]\u001b[0m\u001b[1;33m)\u001b[0m\u001b[1;33m\u001b[0m\u001b[1;33m\u001b[0m\u001b[0m\n\u001b[0;32m     34\u001b[0m     \u001b[0mprint\u001b[0m\u001b[1;33m(\u001b[0m\u001b[0mdist\u001b[0m\u001b[1;33m)\u001b[0m\u001b[1;33m\u001b[0m\u001b[1;33m\u001b[0m\u001b[0m\n\u001b[1;32m---> 35\u001b[1;33m \u001b[0mDictDijkstra\u001b[0m\u001b[1;33m(\u001b[0m\u001b[0mgraph\u001b[0m\u001b[1;33m,\u001b[0m \u001b[1;34m'C'\u001b[0m\u001b[1;33m)\u001b[0m\u001b[1;33m\u001b[0m\u001b[1;33m\u001b[0m\u001b[0m\n\u001b[0m",
      "\u001b[1;32m<ipython-input-2-fc58d30c055a>\u001b[0m in \u001b[0;36mDictDijkstra\u001b[1;34m(G, s)\u001b[0m\n\u001b[0;32m     27\u001b[0m                         \u001b[0mv\u001b[0m \u001b[1;33m=\u001b[0m \u001b[0mel\u001b[0m\u001b[1;33m\u001b[0m\u001b[1;33m\u001b[0m\u001b[0m\n\u001b[0;32m     28\u001b[0m         \u001b[1;31m#Now we have minimal element\u001b[0m\u001b[1;33m\u001b[0m\u001b[1;33m\u001b[0m\u001b[1;33m\u001b[0m\u001b[0m\n\u001b[1;32m---> 29\u001b[1;33m         \u001b[0mvisited\u001b[0m\u001b[1;33m[\u001b[0m\u001b[0mmin_el\u001b[0m\u001b[1;33m[\u001b[0m\u001b[1;36m0\u001b[0m\u001b[1;33m]\u001b[0m\u001b[1;33m]\u001b[0m \u001b[1;33m=\u001b[0m \u001b[1;32mTrue\u001b[0m\u001b[1;33m\u001b[0m\u001b[1;33m\u001b[0m\u001b[0m\n\u001b[0m\u001b[0;32m     30\u001b[0m         \u001b[1;31m#relaxing\u001b[0m\u001b[1;33m\u001b[0m\u001b[1;33m\u001b[0m\u001b[1;33m\u001b[0m\u001b[0m\n\u001b[0;32m     31\u001b[0m         \u001b[0mdist\u001b[0m\u001b[1;33m[\u001b[0m\u001b[0mv\u001b[0m\u001b[1;33m[\u001b[0m\u001b[1;36m0\u001b[0m\u001b[1;33m]\u001b[0m\u001b[1;33m]\u001b[0m \u001b[1;33m=\u001b[0m \u001b[0mv\u001b[0m\u001b[1;33m[\u001b[0m\u001b[1;36m1\u001b[0m\u001b[1;33m]\u001b[0m\u001b[1;33m\u001b[0m\u001b[1;33m\u001b[0m\u001b[0m\n",
      "\u001b[1;31mNameError\u001b[0m: name 'min_el' is not defined"
     ]
    }
   ],
   "source": [
    "graph = {'A': {'B': 2, 'C': 1},\n",
    "         'B': {'A': 1, 'D': 1, 'E': 1},\n",
    "         'C': {'A': 1, 'F': 1},\n",
    "         'D': {'B': 1},\n",
    "         'E': {'B': 1, 'F': 1},\n",
    "         'F': {'C': 1, 'E': 1},\n",
    "         'G': {'G': 0}\n",
    "        }\n",
    "def DictDijkstra(G, s):\n",
    "    #set init distance to all another vertices as infinity\n",
    "    dist = {key:np.inf for key in G.keys()}\n",
    "    #but for current vertice is 0\n",
    "    dist[s] = 0\n",
    "    #we didn't visit anything yet\n",
    "    visited = {key:False for key in G.keys()}\n",
    "    for i in range(len(G)):\n",
    "        #at first we vilter all non-visited verts\n",
    "        non_visited = list(filter(lambda item: item[1] == False, visited.items()))\n",
    "        non_visited = [el[0] for el in non_visited]\n",
    "        v = None\n",
    "        for el in dist.items():\n",
    "            if el[0] in non_visited:\n",
    "                if v == None:\n",
    "                    v = el\n",
    "                else:\n",
    "                    if v[1] > el[1]:\n",
    "                        v = el\n",
    "        #Now we have minimal element\n",
    "        visited[v[0]] = True\n",
    "        #relaxing\n",
    "        dist[v[0]] = v[1]\n",
    "        for to in G[v].items():\n",
    "            dist[to[0]] = min(dist[to[0]], d[v[0]] + to[1])\n",
    "    print(dist)\n",
    "DictDijkstra(graph, 'C')"
   ]
  },
  {
   "cell_type": "code",
   "execution_count": null,
   "metadata": {},
   "outputs": [],
   "source": []
  }
 ],
 "metadata": {
  "kernelspec": {
   "display_name": "Python 3",
   "language": "python",
   "name": "python3"
  },
  "language_info": {
   "codemirror_mode": {
    "name": "ipython",
    "version": 3
   },
   "file_extension": ".py",
   "mimetype": "text/x-python",
   "name": "python",
   "nbconvert_exporter": "python",
   "pygments_lexer": "ipython3",
   "version": "3.7.5"
  }
 },
 "nbformat": 4,
 "nbformat_minor": 4
}
